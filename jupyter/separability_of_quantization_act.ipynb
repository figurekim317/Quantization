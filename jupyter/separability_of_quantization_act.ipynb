{
 "cells": [
  {
   "cell_type": "code",
   "execution_count": 1,
   "metadata": {},
   "outputs": [],
   "source": [
    "import sys\n",
    "sys.path.append('../')\n",
    "from quantization.posttraining.layer_scale_optimization import *\n",
    "from collections import namedtuple\n",
    "from tqdm import tqdm\n",
    "from mpl_toolkits import mplot3d\n",
    "%matplotlib inline\n",
    "import numpy as np\n",
    "import matplotlib\n",
    "import matplotlib.pyplot as plt\n",
    "from matplotlib import cm\n",
    "from quantization.methods.clipped_uniform import L2NormQuantization, L3NormQuantization, AciqLaplaceQuantization"
   ]
  },
  {
   "cell_type": "code",
   "execution_count": 125,
   "metadata": {},
   "outputs": [
    {
     "data": {
      "text/plain": [
       "Namespace(arch='resnet18', batch_size=64, bit_act=2, bit_weights=None, cal_batch_size=64, cal_set_size=64, custom_resnet=True, datapath=None, dataset='imagenet', gpu_ids=[0], pre_relu=False, pretrained=True, print_freq=10, qtype='max_static', shuffle=True, workers=25)"
      ]
     },
     "execution_count": 125,
     "metadata": {},
     "output_type": "execute_result"
    }
   ],
   "source": [
    "args_dict = {'arch': 'resnet18', 'custom_resnet': True, 'pretrained': True, 'dataset': 'imagenet', 'gpu_ids': [0], 'datapath': None,\n",
    "                     'batch_size': 64, 'shuffle': True, 'workers': 25, 'print_freq': 10,\n",
    "                     'cal_batch_size': 64, 'cal_set_size': 64}\n",
    "args_dict['bit_act'] = 2\n",
    "args_dict['bit_weights'] = None\n",
    "args_dict['pre_relu'] = False\n",
    "args_dict['qtype'] = 'max_static'\n",
    "args = argparse.Namespace()\n",
    "for k in args_dict:\n",
    "    setattr(args, k, args_dict[k])\n",
    "args"
   ]
  },
  {
   "cell_type": "code",
   "execution_count": 126,
   "metadata": {},
   "outputs": [],
   "source": [
    "if 'inf_model' in globals():\n",
    "    del inf_model\n",
    "\n",
    "# create model\n",
    "# Always enable shuffling to avoid issues where we get bad results due to weak statistics\n",
    "inf_model = CnnModel(args.arch, args.custom_resnet, args.pretrained, args.dataset, args.gpu_ids, args.datapath,\n",
    "                     batch_size=args.batch_size, shuffle=True, workers=args.workers, print_freq=args.print_freq,\n",
    "                     cal_batch_size=args.cal_batch_size, cal_set_size=args.cal_set_size)\n",
    "\n",
    "all_layers = []\n",
    "if args.bit_weights is not None:\n",
    "    all_layers += [n for n, m in inf_model.model.named_modules() if isinstance(m, nn.Conv2d)][1:-1]\n",
    "if args.bit_act is not None:\n",
    "    all_layers += [n for n, m in inf_model.model.named_modules() if isinstance(m, nn.ReLU)][1:-1]\n",
    "if args.bit_act is not None and 'mobilenet' in args.arch:\n",
    "    all_layers += [n for n, m in inf_model.model.named_modules() if isinstance(m, nn.ReLU6)][1:-1]\n",
    "    \n",
    "if 'mq' in globals():\n",
    "    del mq\n",
    "\n",
    "layers = all_layers # [all_layers[1], all_layers[2]]\n",
    "replacement_factory = {nn.ReLU: ActivationModuleWrapperPost,\n",
    "                       nn.ReLU6: ActivationModuleWrapperPost,\n",
    "                       nn.Conv2d: ParameterModuleWrapperPost}\n",
    "mq = ModelQuantizer(inf_model.model, args, layers, replacement_factory)"
   ]
  },
  {
   "cell_type": "code",
   "execution_count": 127,
   "metadata": {},
   "outputs": [
    {
     "name": "stdout",
     "output_type": "stream",
     "text": [
      "ActivationModuleWrapperPost - layer1.0.relu1 | MaxAbsStaticQuantization - [alpha: 3.8490, bits: 2, symmetric: False, tails: False, ] | cuda:0\n",
      "ActivationModuleWrapperPost - layer1.0.relu2 | MaxAbsStaticQuantization - [alpha: 6.5176, bits: 2, symmetric: False, tails: False, ] | cuda:0\n",
      "ActivationModuleWrapperPost - layer1.1.relu1 | MaxAbsStaticQuantization - [alpha: 3.9670, bits: 2, symmetric: False, tails: False, ] | cuda:0\n",
      "ActivationModuleWrapperPost - layer1.1.relu2 | MaxAbsStaticQuantization - [alpha: 13.9871, bits: 2, symmetric: False, tails: False, ] | cuda:0\n",
      "ActivationModuleWrapperPost - layer2.0.relu1 | MaxAbsStaticQuantization - [alpha: 5.5198, bits: 2, symmetric: False, tails: False, ] | cuda:0\n",
      "ActivationModuleWrapperPost - layer2.0.relu2 | MaxAbsStaticQuantization - [alpha: 11.6134, bits: 2, symmetric: False, tails: False, ] | cuda:0\n",
      "ActivationModuleWrapperPost - layer2.1.relu1 | MaxAbsStaticQuantization - [alpha: 5.9953, bits: 2, symmetric: False, tails: False, ] | cuda:0\n",
      "ActivationModuleWrapperPost - layer2.1.relu2 | MaxAbsStaticQuantization - [alpha: 11.2895, bits: 2, symmetric: False, tails: False, ] | cuda:0\n",
      "ActivationModuleWrapperPost - layer3.0.relu1 | MaxAbsStaticQuantization - [alpha: 7.0255, bits: 2, symmetric: False, tails: False, ] | cuda:0\n",
      "ActivationModuleWrapperPost - layer3.0.relu2 | MaxAbsStaticQuantization - [alpha: 9.8070, bits: 2, symmetric: False, tails: False, ] | cuda:0\n",
      "ActivationModuleWrapperPost - layer3.1.relu1 | MaxAbsStaticQuantization - [alpha: 6.7907, bits: 2, symmetric: False, tails: False, ] | cuda:0\n",
      "ActivationModuleWrapperPost - layer3.1.relu2 | MaxAbsStaticQuantization - [alpha: 11.2569, bits: 2, symmetric: False, tails: False, ] | cuda:0\n",
      "ActivationModuleWrapperPost - layer4.0.relu1 | MaxAbsStaticQuantization - [alpha: 6.1086, bits: 2, symmetric: False, tails: False, ] | cuda:0\n",
      "ActivationModuleWrapperPost - layer4.0.relu2 | MaxAbsStaticQuantization - [alpha: 15.1235, bits: 2, symmetric: False, tails: False, ] | cuda:0\n",
      "ActivationModuleWrapperPost - layer4.1.relu1 | MaxAbsStaticQuantization - [alpha: 5.4826, bits: 2, symmetric: False, tails: False, ] | cuda:0\n",
      "loss: 20.9363\n",
      "tensor([ 3.8490,  6.5176,  3.9670, 13.9871,  5.5198, 11.6134,  5.9953, 11.2895,\n",
      "         7.0255,  9.8070,  6.7907, 11.2569,  6.1086, 15.1235,  5.4826],\n",
      "       device='cuda:0')\n"
     ]
    }
   ],
   "source": [
    "loss = inf_model.evaluate_calibration()\n",
    "print(\"loss: {:.4f}\".format(loss.item()))\n",
    "\n",
    "# get clipping values\n",
    "init = get_clipping(mq)\n",
    "# print(init)\n",
    "\n",
    "init_ = init[0].new_empty(len(init))\n",
    "for i in range(len(init)):\n",
    "    init_[i] = init[i]\n",
    "    \n",
    "print(init_)"
   ]
  },
  {
   "cell_type": "code",
   "execution_count": 104,
   "metadata": {},
   "outputs": [],
   "source": [
    "def separability_index(f, m, n, gpu=False, gamma_expecation=True):\n",
    "    x, z = torch.tensor(np.random.uniform(0, 1, size=(n, m))).float(), torch.tensor(np.random.uniform(0, 1, size=(n, m))).float()\n",
    "    if gpu:\n",
    "        x = x.cuda()\n",
    "        z = z.cuda()\n",
    "\n",
    "    print(\"Calaculate f(x)\")\n",
    "    t0 = f(x)\n",
    "    print(\"Calaculate f(z)\")\n",
    "    t1 = t0 + (m - 1)*f(z)\n",
    "\n",
    "    print(\"Calaculate f(xj,zj')\")\n",
    "    t2 = t1.new_zeros((n,))\n",
    "    for i in range(m):\n",
    "        y = z.clone()\n",
    "        y[:,i] = x[:,i]\n",
    "        t2 += f(y)\n",
    "\n",
    "    g = t0 * (t1 - t2)\n",
    "    gamma = g.mean()\n",
    "\n",
    "    s = (g - gamma).std()\n",
    "    T = np.sqrt(n) * gamma / max(s, 1e-8)\n",
    "\n",
    "    if gamma_expecation:\n",
    "        return gamma, T\n",
    "    else:\n",
    "        return g, T\n",
    "\n",
    "# assum x is matrix (n,m) in range [0,1]\n",
    "# n - number of sumples \n",
    "# m - number of variables\n",
    "def model_func(x, scales):\n",
    "    loss = x.new_empty(x.shape[0])\n",
    "    for i in tqdm(range(x.shape[0])):\n",
    "        # set clip value. rescale to [0.5,1] to avoid radical saturation\n",
    "        r = (x[i] + 1) / 2\n",
    "        set_clipping(mq, r*scales, inf_model.device)\n",
    "\n",
    "        # evaluate with clipping\n",
    "        loss[i] = inf_model.evaluate_calibration()\n",
    "    return loss"
   ]
  },
  {
   "cell_type": "code",
   "execution_count": 118,
   "metadata": {},
   "outputs": [
    {
     "name": "stderr",
     "output_type": "stream",
     "text": [
      "  4%|▍         | 2/50 [00:00<00:03, 13.58it/s]"
     ]
    },
    {
     "name": "stdout",
     "output_type": "stream",
     "text": [
      "bits act: 8\n",
      "Calaculate f(x)\n"
     ]
    },
    {
     "name": "stderr",
     "output_type": "stream",
     "text": [
      "100%|██████████| 50/50 [00:02<00:00, 16.91it/s]\n",
      "  4%|▍         | 2/50 [00:00<00:02, 17.23it/s]"
     ]
    },
    {
     "name": "stdout",
     "output_type": "stream",
     "text": [
      "Calaculate f(z)\n"
     ]
    },
    {
     "name": "stderr",
     "output_type": "stream",
     "text": [
      "100%|██████████| 50/50 [00:02<00:00, 17.20it/s]\n",
      "  4%|▍         | 2/50 [00:00<00:02, 17.25it/s]"
     ]
    },
    {
     "name": "stdout",
     "output_type": "stream",
     "text": [
      "Calaculate f(xj,zj')\n"
     ]
    },
    {
     "name": "stderr",
     "output_type": "stream",
     "text": [
      "100%|██████████| 50/50 [00:02<00:00, 17.21it/s]\n",
      "100%|██████████| 50/50 [00:02<00:00, 17.19it/s]\n",
      "100%|██████████| 50/50 [00:02<00:00, 17.14it/s]\n",
      "100%|██████████| 50/50 [00:02<00:00, 16.98it/s]\n",
      "100%|██████████| 50/50 [00:02<00:00, 17.05it/s]\n",
      "100%|██████████| 50/50 [00:02<00:00, 17.10it/s]\n",
      "100%|██████████| 50/50 [00:02<00:00, 17.11it/s]\n",
      "100%|██████████| 50/50 [00:02<00:00, 17.08it/s]\n",
      "100%|██████████| 50/50 [00:02<00:00, 17.07it/s]\n",
      "100%|██████████| 50/50 [00:02<00:00, 17.07it/s]\n",
      "100%|██████████| 50/50 [00:02<00:00, 17.05it/s]\n",
      "100%|██████████| 50/50 [00:02<00:00, 17.03it/s]\n",
      "100%|██████████| 50/50 [00:02<00:00, 17.02it/s]\n",
      "100%|██████████| 50/50 [00:02<00:00, 17.00it/s]\n",
      "100%|██████████| 50/50 [00:02<00:00, 17.01it/s]\n"
     ]
    },
    {
     "name": "stdout",
     "output_type": "stream",
     "text": [
      "gamma^2: -0.00282\n",
      "T': -0.4046\n",
      "T norm: -0.05721836\n",
      "g: -0.1411\n"
     ]
    },
    {
     "data": {
      "image/png": "[encoded data removed]",
      "text/plain": [
       "<matplotlib.figure.Figure at 0x7f175023b550>"
      ]
     },
     "metadata": {
      "needs_background": "light"
     },
     "output_type": "display_data"
    }
   ],
   "source": [
    "print(\"bits act: \" + str(args_dict['bit_act']))\n",
    "n = 50\n",
    "gamma, T = separability_index(lambda x: model_func(x, init_), len(init_), n, gpu=True, gamma_expecation=False)\n",
    "g = gamma.cpu().numpy()\n",
    "g_cum = g.cumsum()\n",
    "plt.plot(g_cum);\n",
    "plt.axhline(g.mean())\n",
    "print(\"gamma^2: {:.5f}\".format(gamma.mean()))\n",
    "print(\"T': {:.4f}\".format(T))\n",
    "print(\"T norm: {:.8f}\".format(T / np.sqrt(n)))\n",
    "print(\"g: {:.4f}\".format(g.sum()))"
   ]
  },
  {
   "cell_type": "code",
   "execution_count": 123,
   "metadata": {},
   "outputs": [
    {
     "name": "stderr",
     "output_type": "stream",
     "text": [
      "  4%|▍         | 2/50 [00:00<00:03, 14.08it/s]"
     ]
    },
    {
     "name": "stdout",
     "output_type": "stream",
     "text": [
      "bits act: 4\n",
      "Calaculate f(x)\n"
     ]
    },
    {
     "name": "stderr",
     "output_type": "stream",
     "text": [
      "100%|██████████| 50/50 [00:02<00:00, 17.00it/s]\n",
      "  4%|▍         | 2/50 [00:00<00:02, 17.21it/s]"
     ]
    },
    {
     "name": "stdout",
     "output_type": "stream",
     "text": [
      "Calaculate f(z)\n"
     ]
    },
    {
     "name": "stderr",
     "output_type": "stream",
     "text": [
      "100%|██████████| 50/50 [00:02<00:00, 17.21it/s]\n",
      "  4%|▍         | 2/50 [00:00<00:02, 17.19it/s]"
     ]
    },
    {
     "name": "stdout",
     "output_type": "stream",
     "text": [
      "Calaculate f(xj,zj')\n"
     ]
    },
    {
     "name": "stderr",
     "output_type": "stream",
     "text": [
      "100%|██████████| 50/50 [00:02<00:00, 17.21it/s]\n",
      "100%|██████████| 50/50 [00:02<00:00, 17.20it/s]\n",
      "100%|██████████| 50/50 [00:02<00:00, 17.15it/s]\n",
      "100%|██████████| 50/50 [00:02<00:00, 17.15it/s]\n",
      "100%|██████████| 50/50 [00:02<00:00, 17.15it/s]\n",
      "100%|██████████| 50/50 [00:02<00:00, 17.13it/s]\n",
      "100%|██████████| 50/50 [00:02<00:00, 17.12it/s]\n",
      "100%|██████████| 50/50 [00:02<00:00, 17.09it/s]\n",
      "100%|██████████| 50/50 [00:02<00:00, 17.10it/s]\n",
      "100%|██████████| 50/50 [00:02<00:00, 17.08it/s]\n",
      "100%|██████████| 50/50 [00:02<00:00, 17.07it/s]\n",
      "100%|██████████| 50/50 [00:02<00:00, 16.96it/s]\n",
      "100%|██████████| 50/50 [00:02<00:00, 16.91it/s]\n",
      "100%|██████████| 50/50 [00:02<00:00, 16.88it/s]\n",
      "100%|██████████| 50/50 [00:02<00:00, 16.91it/s]\n"
     ]
    },
    {
     "name": "stdout",
     "output_type": "stream",
     "text": [
      "gamma^2: 0.03523\n",
      "T': 0.3287\n",
      "T norm: 0.04648666\n",
      "g: 1.7614\n"
     ]
    },
    {
     "data": {
      "image/png": "[encoded data removed]",
      "text/plain": [
       "<matplotlib.figure.Figure at 0x7f174d9d9438>"
      ]
     },
     "metadata": {
      "needs_background": "light"
     },
     "output_type": "display_data"
    }
   ],
   "source": [
    "print(\"bits act: \" + str(args_dict['bit_act']))\n",
    "n = 50\n",
    "gamma, T = separability_index(lambda x: model_func(x, init_), len(init_), n, gpu=True, gamma_expecation=False)\n",
    "g = gamma.cpu().numpy()\n",
    "g_cum = g.cumsum()\n",
    "plt.plot(g_cum);\n",
    "plt.axhline(g.mean())\n",
    "print(\"gamma^2: {:.5f}\".format(gamma.mean()))\n",
    "print(\"T': {:.4f}\".format(T))\n",
    "print(\"T norm: {:.8f}\".format(T / np.sqrt(n)))\n",
    "print(\"g: {:.4f}\".format(g.sum()))"
   ]
  },
  {
   "cell_type": "code",
   "execution_count": 128,
   "metadata": {},
   "outputs": [
    {
     "name": "stderr",
     "output_type": "stream",
     "text": [
      "  4%|▍         | 2/50 [00:00<00:03, 13.69it/s]"
     ]
    },
    {
     "name": "stdout",
     "output_type": "stream",
     "text": [
      "bits act: 2\n",
      "Calaculate f(x)\n"
     ]
    },
    {
     "name": "stderr",
     "output_type": "stream",
     "text": [
      "100%|██████████| 50/50 [00:02<00:00, 16.98it/s]\n",
      "  4%|▍         | 2/50 [00:00<00:02, 17.29it/s]"
     ]
    },
    {
     "name": "stdout",
     "output_type": "stream",
     "text": [
      "Calaculate f(z)\n"
     ]
    },
    {
     "name": "stderr",
     "output_type": "stream",
     "text": [
      "100%|██████████| 50/50 [00:02<00:00, 17.28it/s]\n",
      "  4%|▍         | 2/50 [00:00<00:02, 17.35it/s]"
     ]
    },
    {
     "name": "stdout",
     "output_type": "stream",
     "text": [
      "Calaculate f(xj,zj')\n"
     ]
    },
    {
     "name": "stderr",
     "output_type": "stream",
     "text": [
      "100%|██████████| 50/50 [00:02<00:00, 17.27it/s]\n",
      "100%|██████████| 50/50 [00:02<00:00, 17.23it/s]\n",
      "100%|██████████| 50/50 [00:02<00:00, 17.26it/s]\n",
      "100%|██████████| 50/50 [00:02<00:00, 17.25it/s]\n",
      "100%|██████████| 50/50 [00:02<00:00, 17.19it/s]\n",
      "100%|██████████| 50/50 [00:02<00:00, 17.18it/s]\n",
      "100%|██████████| 50/50 [00:02<00:00, 17.17it/s]\n",
      "100%|██████████| 50/50 [00:02<00:00, 17.18it/s]\n",
      "100%|██████████| 50/50 [00:02<00:00, 17.17it/s]\n",
      "100%|██████████| 50/50 [00:02<00:00, 17.16it/s]\n",
      "100%|██████████| 50/50 [00:02<00:00, 17.15it/s]\n",
      "100%|██████████| 50/50 [00:02<00:00, 17.11it/s]\n",
      "100%|██████████| 50/50 [00:02<00:00, 17.08it/s]\n",
      "100%|██████████| 50/50 [00:02<00:00, 16.99it/s]\n",
      "100%|██████████| 50/50 [00:02<00:00, 16.98it/s]\n"
     ]
    },
    {
     "name": "stdout",
     "output_type": "stream",
     "text": [
      "gamma^2: 20.44934\n",
      "T': 1.0199\n",
      "T norm: 0.14423628\n",
      "g: 1022.4673\n"
     ]
    },
    {
     "data": {
      "image/png": "[encoded data removed]",
      "text/plain": [
       "<matplotlib.figure.Figure at 0x7f174dbe2a58>"
      ]
     },
     "metadata": {
      "needs_background": "light"
     },
     "output_type": "display_data"
    }
   ],
   "source": [
    "print(\"bits act: \" + str(args_dict['bit_act']))\n",
    "n = 50\n",
    "gamma, T = separability_index(lambda x: model_func(x, init_), len(init_), n, gpu=True, gamma_expecation=False)\n",
    "g = gamma.cpu().numpy()\n",
    "g_cum = g.cumsum()\n",
    "plt.plot(g_cum);\n",
    "plt.axhline(g.mean())\n",
    "print(\"gamma^2: {:.5f}\".format(gamma.mean()))\n",
    "print(\"T': {:.4f}\".format(T))\n",
    "print(\"T norm: {:.8f}\".format(T / np.sqrt(n)))\n",
    "print(\"g: {:.4f}\".format(g.sum()))"
   ]
  }
 ],
 "metadata": {
  "kernelspec": {
   "display_name": "venv3",
   "language": "python",
   "name": "venv3"
  },
  "language_info": {
   "codemirror_mode": {
    "name": "ipython",
    "version": 3
   },
   "file_extension": ".py",
   "mimetype": "text/x-python",
   "name": "python",
   "nbconvert_exporter": "python",
   "pygments_lexer": "ipython3",
   "version": "3.5.2"
  }
 },
 "nbformat": 4,
 "nbformat_minor": 2
}
